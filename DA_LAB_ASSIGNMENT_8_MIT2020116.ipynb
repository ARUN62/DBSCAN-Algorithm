{
  "nbformat": 4,
  "nbformat_minor": 0,
  "metadata": {
    "colab": {
      "name": "DA_LAB ASSIGNMENT- 8_MIT2020116.ipynb",
      "provenance": []
    },
    "kernelspec": {
      "display_name": "Python 3",
      "language": "python",
      "name": "python3"
    },
    "language_info": {
      "codemirror_mode": {
        "name": "ipython",
        "version": 3
      },
      "file_extension": ".py",
      "mimetype": "text/x-python",
      "name": "python",
      "nbconvert_exporter": "python",
      "pygments_lexer": "ipython3",
      "version": "3.8.5"
    }
  },
  "cells": [
    {
      "cell_type": "markdown",
      "metadata": {
        "id": "PuoYg4SB87tV"
      },
      "source": [
        "# Importing Libraries"
      ]
    },
    {
      "cell_type": "code",
      "metadata": {
        "id": "3ev8Yhaf8WH8"
      },
      "source": [
        "import matplotlib.pyplot as plt\n",
        "from sklearn.cluster import DBSCAN\n",
        "import numpy as np\n",
        "import pandas as pd"
      ],
      "execution_count": null,
      "outputs": []
    },
    {
      "cell_type": "markdown",
      "metadata": {
        "id": "N5LFtxAg9Sxv"
      },
      "source": [
        "# Loading the Dataset"
      ]
    },
    {
      "cell_type": "code",
      "metadata": {
        "colab": {
          "base_uri": "https://localhost:8080/",
          "height": 422
        },
        "id": "aPitDcJs9OtB",
        "outputId": "548de439-52aa-4949-fc4c-019b45d9bde2"
      },
      "source": [
        "df = pd.read_csv(r'C:\\Users\\Arun Kumar\\Downloads\\CC GENERAL.csv')\n",
        "df"
      ],
      "execution_count": null,
      "outputs": [
        {
          "output_type": "execute_result",
          "data": {
            "text/html": [
              "<div>\n",
              "<style scoped>\n",
              "    .dataframe tbody tr th:only-of-type {\n",
              "        vertical-align: middle;\n",
              "    }\n",
              "\n",
              "    .dataframe tbody tr th {\n",
              "        vertical-align: top;\n",
              "    }\n",
              "\n",
              "    .dataframe thead th {\n",
              "        text-align: right;\n",
              "    }\n",
              "</style>\n",
              "<table border=\"1\" class=\"dataframe\">\n",
              "  <thead>\n",
              "    <tr style=\"text-align: right;\">\n",
              "      <th></th>\n",
              "      <th>CUST_ID</th>\n",
              "      <th>BALANCE</th>\n",
              "      <th>BALANCE_FREQUENCY</th>\n",
              "      <th>PURCHASES</th>\n",
              "      <th>ONEOFF_PURCHASES</th>\n",
              "      <th>INSTALLMENTS_PURCHASES</th>\n",
              "      <th>CASH_ADVANCE</th>\n",
              "      <th>PURCHASES_FREQUENCY</th>\n",
              "      <th>ONEOFF_PURCHASES_FREQUENCY</th>\n",
              "      <th>PURCHASES_INSTALLMENTS_FREQUENCY</th>\n",
              "      <th>CASH_ADVANCE_FREQUENCY</th>\n",
              "      <th>CASH_ADVANCE_TRX</th>\n",
              "      <th>PURCHASES_TRX</th>\n",
              "      <th>CREDIT_LIMIT</th>\n",
              "      <th>PAYMENTS</th>\n",
              "      <th>MINIMUM_PAYMENTS</th>\n",
              "      <th>PRC_FULL_PAYMENT</th>\n",
              "      <th>TENURE</th>\n",
              "    </tr>\n",
              "  </thead>\n",
              "  <tbody>\n",
              "    <tr>\n",
              "      <th>0</th>\n",
              "      <td>C10001</td>\n",
              "      <td>40.900749</td>\n",
              "      <td>0.818182</td>\n",
              "      <td>95.40</td>\n",
              "      <td>0.00</td>\n",
              "      <td>95.40</td>\n",
              "      <td>0.000000</td>\n",
              "      <td>0.166667</td>\n",
              "      <td>0.000000</td>\n",
              "      <td>0.083333</td>\n",
              "      <td>0.000000</td>\n",
              "      <td>0</td>\n",
              "      <td>2</td>\n",
              "      <td>1000.0</td>\n",
              "      <td>201.802084</td>\n",
              "      <td>139.509787</td>\n",
              "      <td>0.000000</td>\n",
              "      <td>12</td>\n",
              "    </tr>\n",
              "    <tr>\n",
              "      <th>1</th>\n",
              "      <td>C10002</td>\n",
              "      <td>3202.467416</td>\n",
              "      <td>0.909091</td>\n",
              "      <td>0.00</td>\n",
              "      <td>0.00</td>\n",
              "      <td>0.00</td>\n",
              "      <td>6442.945483</td>\n",
              "      <td>0.000000</td>\n",
              "      <td>0.000000</td>\n",
              "      <td>0.000000</td>\n",
              "      <td>0.250000</td>\n",
              "      <td>4</td>\n",
              "      <td>0</td>\n",
              "      <td>7000.0</td>\n",
              "      <td>4103.032597</td>\n",
              "      <td>1072.340217</td>\n",
              "      <td>0.222222</td>\n",
              "      <td>12</td>\n",
              "    </tr>\n",
              "    <tr>\n",
              "      <th>2</th>\n",
              "      <td>C10003</td>\n",
              "      <td>2495.148862</td>\n",
              "      <td>1.000000</td>\n",
              "      <td>773.17</td>\n",
              "      <td>773.17</td>\n",
              "      <td>0.00</td>\n",
              "      <td>0.000000</td>\n",
              "      <td>1.000000</td>\n",
              "      <td>1.000000</td>\n",
              "      <td>0.000000</td>\n",
              "      <td>0.000000</td>\n",
              "      <td>0</td>\n",
              "      <td>12</td>\n",
              "      <td>7500.0</td>\n",
              "      <td>622.066742</td>\n",
              "      <td>627.284787</td>\n",
              "      <td>0.000000</td>\n",
              "      <td>12</td>\n",
              "    </tr>\n",
              "    <tr>\n",
              "      <th>3</th>\n",
              "      <td>C10004</td>\n",
              "      <td>1666.670542</td>\n",
              "      <td>0.636364</td>\n",
              "      <td>1499.00</td>\n",
              "      <td>1499.00</td>\n",
              "      <td>0.00</td>\n",
              "      <td>205.788017</td>\n",
              "      <td>0.083333</td>\n",
              "      <td>0.083333</td>\n",
              "      <td>0.000000</td>\n",
              "      <td>0.083333</td>\n",
              "      <td>1</td>\n",
              "      <td>1</td>\n",
              "      <td>7500.0</td>\n",
              "      <td>0.000000</td>\n",
              "      <td>NaN</td>\n",
              "      <td>0.000000</td>\n",
              "      <td>12</td>\n",
              "    </tr>\n",
              "    <tr>\n",
              "      <th>4</th>\n",
              "      <td>C10005</td>\n",
              "      <td>817.714335</td>\n",
              "      <td>1.000000</td>\n",
              "      <td>16.00</td>\n",
              "      <td>16.00</td>\n",
              "      <td>0.00</td>\n",
              "      <td>0.000000</td>\n",
              "      <td>0.083333</td>\n",
              "      <td>0.083333</td>\n",
              "      <td>0.000000</td>\n",
              "      <td>0.000000</td>\n",
              "      <td>0</td>\n",
              "      <td>1</td>\n",
              "      <td>1200.0</td>\n",
              "      <td>678.334763</td>\n",
              "      <td>244.791237</td>\n",
              "      <td>0.000000</td>\n",
              "      <td>12</td>\n",
              "    </tr>\n",
              "    <tr>\n",
              "      <th>...</th>\n",
              "      <td>...</td>\n",
              "      <td>...</td>\n",
              "      <td>...</td>\n",
              "      <td>...</td>\n",
              "      <td>...</td>\n",
              "      <td>...</td>\n",
              "      <td>...</td>\n",
              "      <td>...</td>\n",
              "      <td>...</td>\n",
              "      <td>...</td>\n",
              "      <td>...</td>\n",
              "      <td>...</td>\n",
              "      <td>...</td>\n",
              "      <td>...</td>\n",
              "      <td>...</td>\n",
              "      <td>...</td>\n",
              "      <td>...</td>\n",
              "      <td>...</td>\n",
              "    </tr>\n",
              "    <tr>\n",
              "      <th>8945</th>\n",
              "      <td>C19186</td>\n",
              "      <td>28.493517</td>\n",
              "      <td>1.000000</td>\n",
              "      <td>291.12</td>\n",
              "      <td>0.00</td>\n",
              "      <td>291.12</td>\n",
              "      <td>0.000000</td>\n",
              "      <td>1.000000</td>\n",
              "      <td>0.000000</td>\n",
              "      <td>0.833333</td>\n",
              "      <td>0.000000</td>\n",
              "      <td>0</td>\n",
              "      <td>6</td>\n",
              "      <td>1000.0</td>\n",
              "      <td>325.594462</td>\n",
              "      <td>48.886365</td>\n",
              "      <td>0.500000</td>\n",
              "      <td>6</td>\n",
              "    </tr>\n",
              "    <tr>\n",
              "      <th>8946</th>\n",
              "      <td>C19187</td>\n",
              "      <td>19.183215</td>\n",
              "      <td>1.000000</td>\n",
              "      <td>300.00</td>\n",
              "      <td>0.00</td>\n",
              "      <td>300.00</td>\n",
              "      <td>0.000000</td>\n",
              "      <td>1.000000</td>\n",
              "      <td>0.000000</td>\n",
              "      <td>0.833333</td>\n",
              "      <td>0.000000</td>\n",
              "      <td>0</td>\n",
              "      <td>6</td>\n",
              "      <td>1000.0</td>\n",
              "      <td>275.861322</td>\n",
              "      <td>NaN</td>\n",
              "      <td>0.000000</td>\n",
              "      <td>6</td>\n",
              "    </tr>\n",
              "    <tr>\n",
              "      <th>8947</th>\n",
              "      <td>C19188</td>\n",
              "      <td>23.398673</td>\n",
              "      <td>0.833333</td>\n",
              "      <td>144.40</td>\n",
              "      <td>0.00</td>\n",
              "      <td>144.40</td>\n",
              "      <td>0.000000</td>\n",
              "      <td>0.833333</td>\n",
              "      <td>0.000000</td>\n",
              "      <td>0.666667</td>\n",
              "      <td>0.000000</td>\n",
              "      <td>0</td>\n",
              "      <td>5</td>\n",
              "      <td>1000.0</td>\n",
              "      <td>81.270775</td>\n",
              "      <td>82.418369</td>\n",
              "      <td>0.250000</td>\n",
              "      <td>6</td>\n",
              "    </tr>\n",
              "    <tr>\n",
              "      <th>8948</th>\n",
              "      <td>C19189</td>\n",
              "      <td>13.457564</td>\n",
              "      <td>0.833333</td>\n",
              "      <td>0.00</td>\n",
              "      <td>0.00</td>\n",
              "      <td>0.00</td>\n",
              "      <td>36.558778</td>\n",
              "      <td>0.000000</td>\n",
              "      <td>0.000000</td>\n",
              "      <td>0.000000</td>\n",
              "      <td>0.166667</td>\n",
              "      <td>2</td>\n",
              "      <td>0</td>\n",
              "      <td>500.0</td>\n",
              "      <td>52.549959</td>\n",
              "      <td>55.755628</td>\n",
              "      <td>0.250000</td>\n",
              "      <td>6</td>\n",
              "    </tr>\n",
              "    <tr>\n",
              "      <th>8949</th>\n",
              "      <td>C19190</td>\n",
              "      <td>372.708075</td>\n",
              "      <td>0.666667</td>\n",
              "      <td>1093.25</td>\n",
              "      <td>1093.25</td>\n",
              "      <td>0.00</td>\n",
              "      <td>127.040008</td>\n",
              "      <td>0.666667</td>\n",
              "      <td>0.666667</td>\n",
              "      <td>0.000000</td>\n",
              "      <td>0.333333</td>\n",
              "      <td>2</td>\n",
              "      <td>23</td>\n",
              "      <td>1200.0</td>\n",
              "      <td>63.165404</td>\n",
              "      <td>88.288956</td>\n",
              "      <td>0.000000</td>\n",
              "      <td>6</td>\n",
              "    </tr>\n",
              "  </tbody>\n",
              "</table>\n",
              "<p>8950 rows × 18 columns</p>\n",
              "</div>"
            ],
            "text/plain": [
              "     CUST_ID      BALANCE  BALANCE_FREQUENCY  PURCHASES  ONEOFF_PURCHASES  \\\n",
              "0     C10001    40.900749           0.818182      95.40              0.00   \n",
              "1     C10002  3202.467416           0.909091       0.00              0.00   \n",
              "2     C10003  2495.148862           1.000000     773.17            773.17   \n",
              "3     C10004  1666.670542           0.636364    1499.00           1499.00   \n",
              "4     C10005   817.714335           1.000000      16.00             16.00   \n",
              "...      ...          ...                ...        ...               ...   \n",
              "8945  C19186    28.493517           1.000000     291.12              0.00   \n",
              "8946  C19187    19.183215           1.000000     300.00              0.00   \n",
              "8947  C19188    23.398673           0.833333     144.40              0.00   \n",
              "8948  C19189    13.457564           0.833333       0.00              0.00   \n",
              "8949  C19190   372.708075           0.666667    1093.25           1093.25   \n",
              "\n",
              "      INSTALLMENTS_PURCHASES  CASH_ADVANCE  PURCHASES_FREQUENCY  \\\n",
              "0                      95.40      0.000000             0.166667   \n",
              "1                       0.00   6442.945483             0.000000   \n",
              "2                       0.00      0.000000             1.000000   \n",
              "3                       0.00    205.788017             0.083333   \n",
              "4                       0.00      0.000000             0.083333   \n",
              "...                      ...           ...                  ...   \n",
              "8945                  291.12      0.000000             1.000000   \n",
              "8946                  300.00      0.000000             1.000000   \n",
              "8947                  144.40      0.000000             0.833333   \n",
              "8948                    0.00     36.558778             0.000000   \n",
              "8949                    0.00    127.040008             0.666667   \n",
              "\n",
              "      ONEOFF_PURCHASES_FREQUENCY  PURCHASES_INSTALLMENTS_FREQUENCY  \\\n",
              "0                       0.000000                          0.083333   \n",
              "1                       0.000000                          0.000000   \n",
              "2                       1.000000                          0.000000   \n",
              "3                       0.083333                          0.000000   \n",
              "4                       0.083333                          0.000000   \n",
              "...                          ...                               ...   \n",
              "8945                    0.000000                          0.833333   \n",
              "8946                    0.000000                          0.833333   \n",
              "8947                    0.000000                          0.666667   \n",
              "8948                    0.000000                          0.000000   \n",
              "8949                    0.666667                          0.000000   \n",
              "\n",
              "      CASH_ADVANCE_FREQUENCY  CASH_ADVANCE_TRX  PURCHASES_TRX  CREDIT_LIMIT  \\\n",
              "0                   0.000000                 0              2        1000.0   \n",
              "1                   0.250000                 4              0        7000.0   \n",
              "2                   0.000000                 0             12        7500.0   \n",
              "3                   0.083333                 1              1        7500.0   \n",
              "4                   0.000000                 0              1        1200.0   \n",
              "...                      ...               ...            ...           ...   \n",
              "8945                0.000000                 0              6        1000.0   \n",
              "8946                0.000000                 0              6        1000.0   \n",
              "8947                0.000000                 0              5        1000.0   \n",
              "8948                0.166667                 2              0         500.0   \n",
              "8949                0.333333                 2             23        1200.0   \n",
              "\n",
              "         PAYMENTS  MINIMUM_PAYMENTS  PRC_FULL_PAYMENT  TENURE  \n",
              "0      201.802084        139.509787          0.000000      12  \n",
              "1     4103.032597       1072.340217          0.222222      12  \n",
              "2      622.066742        627.284787          0.000000      12  \n",
              "3        0.000000               NaN          0.000000      12  \n",
              "4      678.334763        244.791237          0.000000      12  \n",
              "...           ...               ...               ...     ...  \n",
              "8945   325.594462         48.886365          0.500000       6  \n",
              "8946   275.861322               NaN          0.000000       6  \n",
              "8947    81.270775         82.418369          0.250000       6  \n",
              "8948    52.549959         55.755628          0.250000       6  \n",
              "8949    63.165404         88.288956          0.000000       6  \n",
              "\n",
              "[8950 rows x 18 columns]"
            ]
          },
          "metadata": {
            "tags": []
          },
          "execution_count": 2
        }
      ]
    },
    {
      "cell_type": "code",
      "metadata": {
        "id": "jwGkENjl-i4T"
      },
      "source": [
        "df = df.drop(['CUST_ID'], axis=1)"
      ],
      "execution_count": null,
      "outputs": []
    },
    {
      "cell_type": "code",
      "metadata": {
        "colab": {
          "base_uri": "https://localhost:8080/"
        },
        "id": "SxCSSz8IChn8",
        "outputId": "4cd17c0a-bf7b-44c4-bb80-254a0c9787d4"
      },
      "source": [
        "df.isna().sum()"
      ],
      "execution_count": null,
      "outputs": [
        {
          "output_type": "execute_result",
          "data": {
            "text/plain": [
              "BALANCE                               0\n",
              "BALANCE_FREQUENCY                     0\n",
              "PURCHASES                             0\n",
              "ONEOFF_PURCHASES                      0\n",
              "INSTALLMENTS_PURCHASES                0\n",
              "CASH_ADVANCE                          0\n",
              "PURCHASES_FREQUENCY                   0\n",
              "ONEOFF_PURCHASES_FREQUENCY            0\n",
              "PURCHASES_INSTALLMENTS_FREQUENCY      0\n",
              "CASH_ADVANCE_FREQUENCY                0\n",
              "CASH_ADVANCE_TRX                      0\n",
              "PURCHASES_TRX                         0\n",
              "CREDIT_LIMIT                          1\n",
              "PAYMENTS                              0\n",
              "MINIMUM_PAYMENTS                    313\n",
              "PRC_FULL_PAYMENT                      0\n",
              "TENURE                                0\n",
              "dtype: int64"
            ]
          },
          "metadata": {
            "tags": []
          },
          "execution_count": 4
        }
      ]
    },
    {
      "cell_type": "code",
      "metadata": {
        "id": "PhuXqRzQ-ix3"
      },
      "source": [
        "df.MINIMUM_PAYMENTS.fillna(df.MINIMUM_PAYMENTS.mean(), inplace = True)"
      ],
      "execution_count": null,
      "outputs": []
    },
    {
      "cell_type": "code",
      "metadata": {
        "id": "UyHWZCTl-iuw"
      },
      "source": [
        "df.CREDIT_LIMIT.fillna(df.CREDIT_LIMIT.mean(),inplace = True)"
      ],
      "execution_count": null,
      "outputs": []
    },
    {
      "cell_type": "code",
      "metadata": {
        "id": "tCa854Sk90GD"
      },
      "source": [
        "X = df.iloc[:,:-1]\n",
        "y = df.iloc[:,-1]"
      ],
      "execution_count": null,
      "outputs": []
    },
    {
      "cell_type": "code",
      "metadata": {
        "colab": {
          "base_uri": "https://localhost:8080/"
        },
        "id": "qt5J2quTAJsO",
        "outputId": "0d30dcc2-db8c-4d4d-e57f-a51f6431502e"
      },
      "source": [
        "# Frequency count of the Output clusters\n",
        "unique, counts = np.unique(y, return_counts=True)\n",
        "freq_2 = dict(zip(unique, counts))\n",
        "print(freq_2)"
      ],
      "execution_count": null,
      "outputs": [
        {
          "output_type": "stream",
          "text": [
            "{6: 204, 7: 190, 8: 196, 9: 175, 10: 236, 11: 365, 12: 7584}\n"
          ],
          "name": "stdout"
        }
      ]
    },
    {
      "cell_type": "code",
      "metadata": {
        "id": "gIV1K-jIDDuX"
      },
      "source": [
        "from sklearn.preprocessing import StandardScaler"
      ],
      "execution_count": null,
      "outputs": []
    },
    {
      "cell_type": "code",
      "metadata": {
        "id": "OY6ZdvKfDDr7"
      },
      "source": [
        "scaler = StandardScaler()\n",
        "df = pd.DataFrame(scaler.fit_transform(df))"
      ],
      "execution_count": null,
      "outputs": []
    },
    {
      "cell_type": "code",
      "metadata": {
        "colab": {
          "base_uri": "https://localhost:8080/"
        },
        "id": "zO9sDPrR9ett",
        "outputId": "b0e5f7fd-161e-4988-f06e-4cb9db72bbf7"
      },
      "source": [
        "# DBSCAN Clustering\n",
        "\n",
        "# Declaring Model\n",
        "clt_DB = DBSCAN()\n",
        "\n",
        "# By Default Parameters in dbscan\n",
        "clt_DB"
      ],
      "execution_count": null,
      "outputs": [
        {
          "output_type": "execute_result",
          "data": {
            "text/plain": [
              "DBSCAN()"
            ]
          },
          "metadata": {
            "tags": []
          },
          "execution_count": 11
        }
      ]
    },
    {
      "cell_type": "code",
      "metadata": {
        "colab": {
          "base_uri": "https://localhost:8080/"
        },
        "id": "F_SasR2M9xVq",
        "outputId": "0a146fd0-392d-41b7-a1f1-3f611bd2ca95"
      },
      "source": [
        "# Fitting the model\n",
        "model_dbscan = clt_DB.fit(df)\n",
        "pred_dbscan = model_dbscan.labels_\n",
        "print(\"DBScan Output Cluster v1\")\n",
        "print(pred_dbscan)\n",
        "\n",
        "#Frequency count of the Output clusters\n",
        "unique, counts = np.unique(pred_dbscan, return_counts=True)\n",
        "freq_1 = dict(zip(unique, counts))\n",
        "print(\"Frequency of DBScan Output Cluster v1\")\n",
        "print(freq_1)\n",
        "\n",
        "# Original Cluster\n",
        "print(\"Original Cluster\")\n",
        "print(freq_2)"
      ],
      "execution_count": null,
      "outputs": [
        {
          "output_type": "stream",
          "text": [
            "DBScan Output Cluster v1\n",
            "[ 0 -1 -1 ... -1 -1 -1]\n",
            "Frequency of DBScan Output Cluster v1\n",
            "{-1: 6627, 0: 1698, 1: 8, 2: 34, 3: 11, 4: 6, 5: 234, 6: 9, 7: 13, 8: 23, 9: 14, 10: 8, 11: 60, 12: 7, 13: 6, 14: 6, 15: 23, 16: 18, 17: 30, 18: 5, 19: 7, 20: 5, 21: 7, 22: 5, 23: 9, 24: 5, 25: 6, 26: 5, 27: 5, 28: 8, 29: 7, 30: 5, 31: 10, 32: 5, 33: 5, 34: 4, 35: 3, 36: 4, 37: 5}\n",
            "Original Cluster\n",
            "{6: 204, 7: 190, 8: 196, 9: 175, 10: 236, 11: 365, 12: 7584}\n"
          ],
          "name": "stdout"
        }
      ]
    },
    {
      "cell_type": "code",
      "metadata": {
        "id": "_JrPJyw-FDoj"
      },
      "source": [
        ""
      ],
      "execution_count": null,
      "outputs": []
    }
  ]
}